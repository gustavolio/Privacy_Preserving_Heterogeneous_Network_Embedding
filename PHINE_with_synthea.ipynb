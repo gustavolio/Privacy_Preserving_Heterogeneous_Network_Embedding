{
  "nbformat": 4,
  "nbformat_minor": 0,
  "metadata": {
    "colab": {
      "name": "PHINE with synthea.ipynb",
      "provenance": [],
      "collapsed_sections": [],
      "toc_visible": true,
      "include_colab_link": true
    },
    "kernelspec": {
      "name": "python3",
      "display_name": "Python 3"
    },
    "accelerator": "GPU",
    "widgets": {
      "application/vnd.jupyter.widget-state+json": {
        "6ab05cb7fc2b4607ac047469991dc198": {
          "model_module": "@jupyter-widgets/controls",
          "model_name": "HBoxModel",
          "state": {
            "_view_name": "HBoxView",
            "_dom_classes": [],
            "_model_name": "HBoxModel",
            "_view_module": "@jupyter-widgets/controls",
            "_model_module_version": "1.5.0",
            "_view_count": null,
            "_view_module_version": "1.5.0",
            "box_style": "",
            "layout": "IPY_MODEL_4dc61bb1f42c4864a4ed646b158f3835",
            "_model_module": "@jupyter-widgets/controls",
            "children": [
              "IPY_MODEL_3cf5532a31c5479798e266e7f87f6a9c",
              "IPY_MODEL_bbcbbd71baca40fe89125808fdd537e6"
            ]
          }
        },
        "4dc61bb1f42c4864a4ed646b158f3835": {
          "model_module": "@jupyter-widgets/base",
          "model_name": "LayoutModel",
          "state": {
            "_view_name": "LayoutView",
            "grid_template_rows": null,
            "right": null,
            "justify_content": null,
            "_view_module": "@jupyter-widgets/base",
            "overflow": null,
            "_model_module_version": "1.2.0",
            "_view_count": null,
            "flex_flow": null,
            "width": null,
            "min_width": null,
            "border": null,
            "align_items": null,
            "bottom": null,
            "_model_module": "@jupyter-widgets/base",
            "top": null,
            "grid_column": null,
            "overflow_y": null,
            "overflow_x": null,
            "grid_auto_flow": null,
            "grid_area": null,
            "grid_template_columns": null,
            "flex": null,
            "_model_name": "LayoutModel",
            "justify_items": null,
            "grid_row": null,
            "max_height": null,
            "align_content": null,
            "visibility": null,
            "align_self": null,
            "height": null,
            "min_height": null,
            "padding": null,
            "grid_auto_rows": null,
            "grid_gap": null,
            "max_width": null,
            "order": null,
            "_view_module_version": "1.2.0",
            "grid_template_areas": null,
            "object_position": null,
            "object_fit": null,
            "grid_auto_columns": null,
            "margin": null,
            "display": null,
            "left": null
          }
        },
        "3cf5532a31c5479798e266e7f87f6a9c": {
          "model_module": "@jupyter-widgets/controls",
          "model_name": "FloatProgressModel",
          "state": {
            "_view_name": "ProgressView",
            "style": "IPY_MODEL_88ac42833b1347879c228fb70cb69fd8",
            "_dom_classes": [],
            "description": "100%",
            "_model_name": "FloatProgressModel",
            "bar_style": "success",
            "max": 1834,
            "_view_module": "@jupyter-widgets/controls",
            "_model_module_version": "1.5.0",
            "value": 1834,
            "_view_count": null,
            "_view_module_version": "1.5.0",
            "orientation": "horizontal",
            "min": 0,
            "description_tooltip": null,
            "_model_module": "@jupyter-widgets/controls",
            "layout": "IPY_MODEL_625c83971c1f4b5cb682cdc5f0866f81"
          }
        },
        "bbcbbd71baca40fe89125808fdd537e6": {
          "model_module": "@jupyter-widgets/controls",
          "model_name": "HTMLModel",
          "state": {
            "_view_name": "HTMLView",
            "style": "IPY_MODEL_dbe4c3f35b404b6a918f9c617eef4b15",
            "_dom_classes": [],
            "description": "",
            "_model_name": "HTMLModel",
            "placeholder": "​",
            "_view_module": "@jupyter-widgets/controls",
            "_model_module_version": "1.5.0",
            "value": " 1834/1834 [00:38&lt;00:00, 47.47it/s]",
            "_view_count": null,
            "_view_module_version": "1.5.0",
            "description_tooltip": null,
            "_model_module": "@jupyter-widgets/controls",
            "layout": "IPY_MODEL_06caa81a560a4f64a40781990cce10cc"
          }
        },
        "88ac42833b1347879c228fb70cb69fd8": {
          "model_module": "@jupyter-widgets/controls",
          "model_name": "ProgressStyleModel",
          "state": {
            "_view_name": "StyleView",
            "_model_name": "ProgressStyleModel",
            "description_width": "initial",
            "_view_module": "@jupyter-widgets/base",
            "_model_module_version": "1.5.0",
            "_view_count": null,
            "_view_module_version": "1.2.0",
            "bar_color": null,
            "_model_module": "@jupyter-widgets/controls"
          }
        },
        "625c83971c1f4b5cb682cdc5f0866f81": {
          "model_module": "@jupyter-widgets/base",
          "model_name": "LayoutModel",
          "state": {
            "_view_name": "LayoutView",
            "grid_template_rows": null,
            "right": null,
            "justify_content": null,
            "_view_module": "@jupyter-widgets/base",
            "overflow": null,
            "_model_module_version": "1.2.0",
            "_view_count": null,
            "flex_flow": null,
            "width": null,
            "min_width": null,
            "border": null,
            "align_items": null,
            "bottom": null,
            "_model_module": "@jupyter-widgets/base",
            "top": null,
            "grid_column": null,
            "overflow_y": null,
            "overflow_x": null,
            "grid_auto_flow": null,
            "grid_area": null,
            "grid_template_columns": null,
            "flex": null,
            "_model_name": "LayoutModel",
            "justify_items": null,
            "grid_row": null,
            "max_height": null,
            "align_content": null,
            "visibility": null,
            "align_self": null,
            "height": null,
            "min_height": null,
            "padding": null,
            "grid_auto_rows": null,
            "grid_gap": null,
            "max_width": null,
            "order": null,
            "_view_module_version": "1.2.0",
            "grid_template_areas": null,
            "object_position": null,
            "object_fit": null,
            "grid_auto_columns": null,
            "margin": null,
            "display": null,
            "left": null
          }
        },
        "dbe4c3f35b404b6a918f9c617eef4b15": {
          "model_module": "@jupyter-widgets/controls",
          "model_name": "DescriptionStyleModel",
          "state": {
            "_view_name": "StyleView",
            "_model_name": "DescriptionStyleModel",
            "description_width": "",
            "_view_module": "@jupyter-widgets/base",
            "_model_module_version": "1.5.0",
            "_view_count": null,
            "_view_module_version": "1.2.0",
            "_model_module": "@jupyter-widgets/controls"
          }
        },
        "06caa81a560a4f64a40781990cce10cc": {
          "model_module": "@jupyter-widgets/base",
          "model_name": "LayoutModel",
          "state": {
            "_view_name": "LayoutView",
            "grid_template_rows": null,
            "right": null,
            "justify_content": null,
            "_view_module": "@jupyter-widgets/base",
            "overflow": null,
            "_model_module_version": "1.2.0",
            "_view_count": null,
            "flex_flow": null,
            "width": null,
            "min_width": null,
            "border": null,
            "align_items": null,
            "bottom": null,
            "_model_module": "@jupyter-widgets/base",
            "top": null,
            "grid_column": null,
            "overflow_y": null,
            "overflow_x": null,
            "grid_auto_flow": null,
            "grid_area": null,
            "grid_template_columns": null,
            "flex": null,
            "_model_name": "LayoutModel",
            "justify_items": null,
            "grid_row": null,
            "max_height": null,
            "align_content": null,
            "visibility": null,
            "align_self": null,
            "height": null,
            "min_height": null,
            "padding": null,
            "grid_auto_rows": null,
            "grid_gap": null,
            "max_width": null,
            "order": null,
            "_view_module_version": "1.2.0",
            "grid_template_areas": null,
            "object_position": null,
            "object_fit": null,
            "grid_auto_columns": null,
            "margin": null,
            "display": null,
            "left": null
          }
        },
        "16dae273f5284320988352600abfd853": {
          "model_module": "@jupyter-widgets/controls",
          "model_name": "HBoxModel",
          "state": {
            "_view_name": "HBoxView",
            "_dom_classes": [],
            "_model_name": "HBoxModel",
            "_view_module": "@jupyter-widgets/controls",
            "_model_module_version": "1.5.0",
            "_view_count": null,
            "_view_module_version": "1.5.0",
            "box_style": "",
            "layout": "IPY_MODEL_34f984994d2c442f9d5b2ac188a47557",
            "_model_module": "@jupyter-widgets/controls",
            "children": [
              "IPY_MODEL_635054ac4ab24ab7a2d8a21d2514c9f3",
              "IPY_MODEL_b809f3b2987e4dd6b5c1ddc18fe71e5c"
            ]
          }
        },
        "34f984994d2c442f9d5b2ac188a47557": {
          "model_module": "@jupyter-widgets/base",
          "model_name": "LayoutModel",
          "state": {
            "_view_name": "LayoutView",
            "grid_template_rows": null,
            "right": null,
            "justify_content": null,
            "_view_module": "@jupyter-widgets/base",
            "overflow": null,
            "_model_module_version": "1.2.0",
            "_view_count": null,
            "flex_flow": null,
            "width": null,
            "min_width": null,
            "border": null,
            "align_items": null,
            "bottom": null,
            "_model_module": "@jupyter-widgets/base",
            "top": null,
            "grid_column": null,
            "overflow_y": null,
            "overflow_x": null,
            "grid_auto_flow": null,
            "grid_area": null,
            "grid_template_columns": null,
            "flex": null,
            "_model_name": "LayoutModel",
            "justify_items": null,
            "grid_row": null,
            "max_height": null,
            "align_content": null,
            "visibility": null,
            "align_self": null,
            "height": null,
            "min_height": null,
            "padding": null,
            "grid_auto_rows": null,
            "grid_gap": null,
            "max_width": null,
            "order": null,
            "_view_module_version": "1.2.0",
            "grid_template_areas": null,
            "object_position": null,
            "object_fit": null,
            "grid_auto_columns": null,
            "margin": null,
            "display": null,
            "left": null
          }
        },
        "635054ac4ab24ab7a2d8a21d2514c9f3": {
          "model_module": "@jupyter-widgets/controls",
          "model_name": "FloatProgressModel",
          "state": {
            "_view_name": "ProgressView",
            "style": "IPY_MODEL_1f6a73d42fc5470988b507c2cf107b3f",
            "_dom_classes": [],
            "description": "Iteration 15 | Energy = 442.6539132407921: 100%",
            "_model_name": "FloatProgressModel",
            "bar_style": "success",
            "max": 15,
            "_view_module": "@jupyter-widgets/controls",
            "_model_module_version": "1.5.0",
            "value": 15,
            "_view_count": null,
            "_view_module_version": "1.5.0",
            "orientation": "horizontal",
            "min": 0,
            "description_tooltip": null,
            "_model_module": "@jupyter-widgets/controls",
            "layout": "IPY_MODEL_dcf65bbd1dd7475685a512360e3eaebb"
          }
        },
        "b809f3b2987e4dd6b5c1ddc18fe71e5c": {
          "model_module": "@jupyter-widgets/controls",
          "model_name": "HTMLModel",
          "state": {
            "_view_name": "HTMLView",
            "style": "IPY_MODEL_e4da61a8748a4bb8ba85ffc09963c4ab",
            "_dom_classes": [],
            "description": "",
            "_model_name": "HTMLModel",
            "placeholder": "​",
            "_view_module": "@jupyter-widgets/controls",
            "_model_module_version": "1.5.0",
            "value": " 15/15 [00:23&lt;00:00,  1.57s/it]",
            "_view_count": null,
            "_view_module_version": "1.5.0",
            "description_tooltip": null,
            "_model_module": "@jupyter-widgets/controls",
            "layout": "IPY_MODEL_dfc17fbcd3984b7bb3cbecb7c7ca0c29"
          }
        },
        "1f6a73d42fc5470988b507c2cf107b3f": {
          "model_module": "@jupyter-widgets/controls",
          "model_name": "ProgressStyleModel",
          "state": {
            "_view_name": "StyleView",
            "_model_name": "ProgressStyleModel",
            "description_width": "initial",
            "_view_module": "@jupyter-widgets/base",
            "_model_module_version": "1.5.0",
            "_view_count": null,
            "_view_module_version": "1.2.0",
            "bar_color": null,
            "_model_module": "@jupyter-widgets/controls"
          }
        },
        "dcf65bbd1dd7475685a512360e3eaebb": {
          "model_module": "@jupyter-widgets/base",
          "model_name": "LayoutModel",
          "state": {
            "_view_name": "LayoutView",
            "grid_template_rows": null,
            "right": null,
            "justify_content": null,
            "_view_module": "@jupyter-widgets/base",
            "overflow": null,
            "_model_module_version": "1.2.0",
            "_view_count": null,
            "flex_flow": null,
            "width": null,
            "min_width": null,
            "border": null,
            "align_items": null,
            "bottom": null,
            "_model_module": "@jupyter-widgets/base",
            "top": null,
            "grid_column": null,
            "overflow_y": null,
            "overflow_x": null,
            "grid_auto_flow": null,
            "grid_area": null,
            "grid_template_columns": null,
            "flex": null,
            "_model_name": "LayoutModel",
            "justify_items": null,
            "grid_row": null,
            "max_height": null,
            "align_content": null,
            "visibility": null,
            "align_self": null,
            "height": null,
            "min_height": null,
            "padding": null,
            "grid_auto_rows": null,
            "grid_gap": null,
            "max_width": null,
            "order": null,
            "_view_module_version": "1.2.0",
            "grid_template_areas": null,
            "object_position": null,
            "object_fit": null,
            "grid_auto_columns": null,
            "margin": null,
            "display": null,
            "left": null
          }
        },
        "e4da61a8748a4bb8ba85ffc09963c4ab": {
          "model_module": "@jupyter-widgets/controls",
          "model_name": "DescriptionStyleModel",
          "state": {
            "_view_name": "StyleView",
            "_model_name": "DescriptionStyleModel",
            "description_width": "",
            "_view_module": "@jupyter-widgets/base",
            "_model_module_version": "1.5.0",
            "_view_count": null,
            "_view_module_version": "1.2.0",
            "_model_module": "@jupyter-widgets/controls"
          }
        },
        "dfc17fbcd3984b7bb3cbecb7c7ca0c29": {
          "model_module": "@jupyter-widgets/base",
          "model_name": "LayoutModel",
          "state": {
            "_view_name": "LayoutView",
            "grid_template_rows": null,
            "right": null,
            "justify_content": null,
            "_view_module": "@jupyter-widgets/base",
            "overflow": null,
            "_model_module_version": "1.2.0",
            "_view_count": null,
            "flex_flow": null,
            "width": null,
            "min_width": null,
            "border": null,
            "align_items": null,
            "bottom": null,
            "_model_module": "@jupyter-widgets/base",
            "top": null,
            "grid_column": null,
            "overflow_y": null,
            "overflow_x": null,
            "grid_auto_flow": null,
            "grid_area": null,
            "grid_template_columns": null,
            "flex": null,
            "_model_name": "LayoutModel",
            "justify_items": null,
            "grid_row": null,
            "max_height": null,
            "align_content": null,
            "visibility": null,
            "align_self": null,
            "height": null,
            "min_height": null,
            "padding": null,
            "grid_auto_rows": null,
            "grid_gap": null,
            "max_width": null,
            "order": null,
            "_view_module_version": "1.2.0",
            "grid_template_areas": null,
            "object_position": null,
            "object_fit": null,
            "grid_auto_columns": null,
            "margin": null,
            "display": null,
            "left": null
          }
        }
      }
    }
  },
  "cells": [
    {
      "cell_type": "markdown",
      "metadata": {
        "id": "view-in-github",
        "colab_type": "text"
      },
      "source": [
        "<a href=\"https://colab.research.google.com/github/gustavolio/Privacy_Preserving_Heterogeneous_Network_Embedding/blob/main/PHINE_with_synthea.ipynb\" target=\"_parent\"><img src=\"https://colab.research.google.com/assets/colab-badge.svg\" alt=\"Open In Colab\"/></a>"
      ]
    },
    {
      "cell_type": "markdown",
      "metadata": {
        "id": "RzsFhRFDaiwu"
      },
      "source": [
        "# **PHINE: Privacy Heterogeous Network Embeddings**\n",
        "\n",
        "This is an approach to generate privacy-preserving heterogeneous network embeddings on clinical events reccorded on Electronic healthcare Records (EHR). We explore Graph Autoencoders (GAE) with an objective function that simultaneously maximizes the embeddings' usefulness for classification tasks (i.e., preserving HIN properties and topology) and minimizes the effectiveness of inference attacks from embedding (i.e., hiding private information)."
      ]
    },
    {
      "cell_type": "markdown",
      "metadata": {
        "id": "ZTDLLjZm7WwQ"
      },
      "source": [
        "## Download and unzip data"
      ]
    },
    {
      "cell_type": "code",
      "metadata": {
        "id": "dmZ1VJX71YDK"
      },
      "source": [
        "!wget https://storage.googleapis.com/synthea-public/synthea_sample_data_csv_apr2020.zip\n",
        "!unzip synthea_sample_data_csv_apr2020\n",
        "!mv csv/* ."
      ],
      "execution_count": null,
      "outputs": []
    },
    {
      "cell_type": "code",
      "metadata": {
        "id": "3rKkLHfPSipZ"
      },
      "source": [
        "#Remove unnecessary files\n",
        "!rm -r /content/payers.csv\n",
        "!rm -r /content/providers.csv\n",
        "!rm -r /content/organizations.csv\n",
        "!rm -r /content/supplies.csv\n",
        "!rm -r /content/payer_transitions.csv"
      ],
      "execution_count": null,
      "outputs": []
    },
    {
      "cell_type": "markdown",
      "metadata": {
        "id": "68U_ZjWz7O9T"
      },
      "source": [
        "## Read csv files"
      ]
    },
    {
      "cell_type": "code",
      "metadata": {
        "id": "GNIcUGcQy9w7"
      },
      "source": [
        "#Read files and create and array with all of them\n",
        "import numpy as np\n",
        "import pandas as pd\n",
        "import glob\n",
        "import networkx as nx\n",
        "import matplotlib.pyplot as plt\n",
        "import re\n",
        "import datetime\n",
        "from dateutil.relativedelta import relativedelta\n",
        "\n",
        "#Read all csv files\n",
        "def read_csv(file_names, path):\n",
        "    data = []\n",
        "\n",
        "    for filename in file_names:\n",
        "        file_path = path + filename;\n",
        "        df = pd.read_csv(file_path, header=0)\n",
        "        #dropnan\n",
        "        data.append(df)\n",
        "\n",
        "    return data\n",
        "\n",
        "df_file_names = glob.glob(\"*.csv\")\n",
        "syn_data = read_csv(df_file_names, '/content/')"
      ],
      "execution_count": null,
      "outputs": []
    },
    {
      "cell_type": "code",
      "metadata": {
        "colab": {
          "base_uri": "https://localhost:8080/"
        },
        "id": "U-socsqX5VAc",
        "outputId": "7ec32dbd-77cd-4cb7-e3e8-e4638ffe3602"
      },
      "source": [
        "def set_node_type(file_name, df):\n",
        "    #get node type\n",
        "    node_type = re.split(\"[.]\", file_name)[0]\n",
        "    #get number rows\n",
        "    number_rows = df.shape[0]\n",
        "    #create a new column with node type\n",
        "    df['node_type'] = np.full(number_rows, node_type)\n",
        "\n",
        "#Put node_type columns\n",
        "for index,df in enumerate(syn_data):\n",
        "    #get file name\n",
        "    file_name = df_file_names[index]\n",
        "    set_node_type(file_name, df)"
      ],
      "execution_count": null,
      "outputs": [
        {
          "output_type": "stream",
          "text": [
            "['observations']\n",
            "['encounters']\n",
            "['medications']\n",
            "['immunizations']\n",
            "['imaging_studies']\n",
            "['careplans']\n",
            "['devices']\n",
            "['patients']\n",
            "['conditions']\n",
            "['procedures']\n",
            "['allergies']\n"
          ],
          "name": "stdout"
        }
      ]
    },
    {
      "cell_type": "markdown",
      "metadata": {
        "id": "5R20QFS36TC-"
      },
      "source": [
        "## Create Network"
      ]
    },
    {
      "cell_type": "code",
      "metadata": {
        "id": "YO-pD3MI6u0l"
      },
      "source": [
        "# child =< 12\n",
        "# 12 < young < 18\n",
        "# 18 <= adult < 60\n",
        "# 60 <= elderly\n",
        "def set_age_cat(birthdate, deathdate):\n",
        "    category = ''\n",
        "    age = 0\n",
        "    final_date = datetime.datetime.now()\n",
        "    birth = datetime.datetime(int(birthdate[0:4]),int(birthdate[5:7]),int(birthdate[8:]))\n",
        "\n",
        "    if not(pd.isnull(deathdate)):\n",
        "        final_date = datetime.datetime(int(deathdate[0:4]),int(deathdate[5:7]),int(deathdate[8:]))\n",
        "\n",
        "    age = relativedelta(final_date, birth).years\n",
        "    if (age <= 12):\n",
        "        category = 'child'\n",
        "    elif (12 < age < 18):\n",
        "        category = 'young'\n",
        "    elif (18 <= age < 60):\n",
        "        category = 'adult'\n",
        "    else:\n",
        "        category = 'eaderly'\n",
        "\n",
        "    return category\n",
        "\n",
        "#Add generic nodes\n",
        "def add_syn_node(graph, df):\n",
        "    for index,n_data in df.iterrows():\n",
        "        graph.add_node(n_data['DESCRIPTION'], node_type=n_data['node_type'])\n",
        "        graph.add_edge(n_data['PATIENT'], n_data['DESCRIPTION'])\n",
        "\n",
        "#Add imaging_studies nodes\n",
        "def add_syn_node_img(graph, df):\n",
        "    for index,n_data in df.iterrows():\n",
        "        graph.add_node(n_data['BODYSITE_DESCRIPTION'], node_type=n_data['node_type'])\n",
        "        graph.add_edge(n_data['PATIENT'], n_data['BODYSITE_DESCRIPTION'])\n",
        "\n",
        "#Add patients node nodes\n",
        "def add_syn_node_pat(graph, df):\n",
        "    for index,n_data in df.iterrows():\n",
        "        age_cat = set_age_cat(n_data['BIRTHDATE'], n_data['DEATHDATE'])\n",
        "\n",
        "        graph.add_node(n_data['Id'],\n",
        "                       node_type=n_data['node_type'],ethnicity=n_data['ETHNICITY'],\n",
        "                       birth=n_data['BIRTHDATE'], death=n_data['DEATHDATE'],\n",
        "                       gender=n_data['GENDER'], age_category=age_cat,\n",
        "                       marital=n_data['MARITAL'], race=n_data['RACE'],\n",
        "                       city=n_data['CITY'])\n",
        "\n",
        "\n",
        "G = nx.Graph()\n",
        "#Create a heterogeneous network\n",
        "for index,df in enumerate(syn_data):\n",
        "    node_type = df[:1]['node_type'].values[0]\n",
        "\n",
        "    if node_type == 'patients':\n",
        "        add_syn_node_pat(G, df)\n",
        "    elif node_type == 'imaging_studies':\n",
        "        add_syn_node_img(G, df)\n",
        "    else:\n",
        "        add_syn_node(G, df)\n",
        "    \n",
        "    print('{}/{} -- {}'.format(index, len(syn_data), node_type))"
      ],
      "execution_count": null,
      "outputs": []
    },
    {
      "cell_type": "code",
      "metadata": {
        "id": "V-xq_LhdlCyq",
        "colab": {
          "base_uri": "https://localhost:8080/"
        },
        "outputId": "db033a93-0bd3-49c8-e881-39718c45af44"
      },
      "source": [
        "# Number of nodes\n",
        "print(\"Number of Node: {} \\nNumber of Edges: {}\".format(len(G), G.number_of_edges()))"
      ],
      "execution_count": null,
      "outputs": [
        {
          "output_type": "stream",
          "text": [
            "Number of Node: 1834 \n",
            "Number of Edges: 78055\n"
          ],
          "name": "stdout"
        }
      ]
    },
    {
      "cell_type": "markdown",
      "metadata": {
        "id": "Yu76Zb8CsGs-"
      },
      "source": [
        "# Heterogeneous Network Regularization"
      ]
    },
    {
      "cell_type": "code",
      "metadata": {
        "id": "XcyvZnG_wGG-"
      },
      "source": [
        "!pip install git+https://github.com/rmarcacini/sentence-transformers\n",
        "!pip install gdown\n",
        "!gdown https://drive.google.com/uc?id=1NV5t1YhyyOzMF5zAovfbSLdZZLvqrfZ_\n",
        "!unzip distiluse-base-multilingual-cased.zip -d language_model\n",
        "from sentence_transformers import SentenceTransformer, LoggingHandler\n",
        "import numpy as np\n",
        "import logging\n",
        "\n",
        "np.set_printoptions(threshold=100)\n",
        "logging.basicConfig(format='%(asctime)s - %(message)s',datefmt='%Y-%m-%d %H:%M:%S',level=logging.INFO,handlers=[LoggingHandler()])\n",
        "\n",
        "language_model = SentenceTransformer('./language_model')"
      ],
      "execution_count": null,
      "outputs": []
    },
    {
      "cell_type": "code",
      "metadata": {
        "id": "QQv0V8EWsJF1",
        "colab": {
          "base_uri": "https://localhost:8080/",
          "height": 67,
          "referenced_widgets": [
            "6ab05cb7fc2b4607ac047469991dc198",
            "4dc61bb1f42c4864a4ed646b158f3835",
            "3cf5532a31c5479798e266e7f87f6a9c",
            "bbcbbd71baca40fe89125808fdd537e6",
            "88ac42833b1347879c228fb70cb69fd8",
            "625c83971c1f4b5cb682cdc5f0866f81",
            "dbe4c3f35b404b6a918f9c617eef4b15",
            "06caa81a560a4f64a40781990cce10cc"
          ]
        },
        "outputId": "deae1ca7-80fa-4669-8220-4f38e575e57e"
      },
      "source": [
        "## Add y attr at node. y represents a embedding.\n",
        "from tqdm.notebook import tqdm\n",
        "counter = 0\n",
        "cache_embedding = {}\n",
        "for node in tqdm(G.nodes()):\n",
        "  if 'node_type' in G.nodes[node] and G.nodes[node]['node_type']!='patients':\n",
        "    embedding = None\n",
        "    if node not in cache_embedding:\n",
        "      embedding = language_model.encode(node,show_progress_bar=False)\n",
        "      cache_embedding[node]=embedding\n",
        "    else:\n",
        "      embedding = cache_embedding[node]\n",
        "    G.nodes[node]['y'] = embedding"
      ],
      "execution_count": null,
      "outputs": [
        {
          "output_type": "display_data",
          "data": {
            "application/vnd.jupyter.widget-view+json": {
              "model_id": "6ab05cb7fc2b4607ac047469991dc198",
              "version_minor": 0,
              "version_major": 2
            },
            "text/plain": [
              "HBox(children=(FloatProgress(value=0.0, max=1834.0), HTML(value='')))"
            ]
          },
          "metadata": {
            "tags": []
          }
        },
        {
          "output_type": "stream",
          "text": [
            "\n"
          ],
          "name": "stdout"
        }
      ]
    },
    {
      "cell_type": "code",
      "metadata": {
        "id": "x4hewrixyqfK",
        "colab": {
          "base_uri": "https://localhost:8080/",
          "height": 85,
          "referenced_widgets": [
            "16dae273f5284320988352600abfd853",
            "34f984994d2c442f9d5b2ac188a47557",
            "635054ac4ab24ab7a2d8a21d2514c9f3",
            "b809f3b2987e4dd6b5c1ddc18fe71e5c",
            "1f6a73d42fc5470988b507c2cf107b3f",
            "dcf65bbd1dd7475685a512360e3eaebb",
            "e4da61a8748a4bb8ba85ffc09963c4ab",
            "dfc17fbcd3984b7bb3cbecb7c7ca0c29"
          ]
        },
        "outputId": "8853ce38-7c55-4409-e7e6-c1214412a9fd"
      },
      "source": [
        "import numpy as np\n",
        "from tqdm.notebook import tqdm\n",
        "import random\n",
        "\n",
        "\n",
        "def regularization(G, dim, iterations=15, mi=0.85):\n",
        "\n",
        "    nodes = []\n",
        "\n",
        "    # Init 'f' vector on all nodes\n",
        "    for node in G.nodes():\n",
        "        G.nodes[node]['f'] = np.array([0.0]*dim)\n",
        "        if 'y' in G.nodes[node]:\n",
        "            G.nodes[node]['f'] = G.nodes[node]['y']*1.0\n",
        "        nodes.append(node)\n",
        "\n",
        "    pbar = tqdm(range(0, iterations))\n",
        "\n",
        "    for iteration in pbar:\n",
        "        random.shuffle(nodes)\n",
        "        energy = 0.0\n",
        "\n",
        "        # Go through each node\n",
        "        for node in nodes:\n",
        "            f_new = np.array([0.0]*dim)\n",
        "            f_old = np.array(G.nodes[node]['f'])*1.0\n",
        "            sum_w = 0.0\n",
        "            \n",
        "            # Go through node neighbors\n",
        "            for neighbor in G.neighbors(node):\n",
        "                w = 1.0\n",
        "                if 'weight' in G[node][neighbor]:\n",
        "                    w = G[node][neighbor]['weight']\n",
        "\n",
        "                w /= np.sqrt(G.degree[neighbor])\n",
        "\n",
        "                f_new += w*G.nodes[neighbor]['f']\n",
        "\n",
        "                sum_w += w\n",
        "\n",
        "            if sum_w == 0: continue\n",
        "            f_new /= sum_w\n",
        "\n",
        "            G.nodes[node]['f'] = f_new*1.0\n",
        "\n",
        "            if 'y' in G.nodes[node]:\n",
        "                G.nodes[node]['f'] = G.nodes[node]['y'] * mi + G.nodes[node]['f']*(1.0-mi)\n",
        "\n",
        "            energy += np.linalg.norm(f_new-f_old)\n",
        "\n",
        "        iteration += 1\n",
        "        message = 'Iteration '+str(iteration)+' | Energy = '+str(energy)\n",
        "        pbar.set_description(message)\n",
        "\n",
        "    return G\n",
        "\n",
        "regularization(G,512)"
      ],
      "execution_count": null,
      "outputs": [
        {
          "output_type": "display_data",
          "data": {
            "application/vnd.jupyter.widget-view+json": {
              "model_id": "16dae273f5284320988352600abfd853",
              "version_minor": 0,
              "version_major": 2
            },
            "text/plain": [
              "HBox(children=(FloatProgress(value=0.0, max=15.0), HTML(value='')))"
            ]
          },
          "metadata": {
            "tags": []
          }
        },
        {
          "output_type": "stream",
          "text": [
            "\n"
          ],
          "name": "stdout"
        },
        {
          "output_type": "execute_result",
          "data": {
            "text/plain": [
              "<networkx.classes.graph.Graph at 0x7f2c689897d0>"
            ]
          },
          "metadata": {
            "tags": []
          },
          "execution_count": 10
        }
      ]
    },
    {
      "cell_type": "markdown",
      "metadata": {
        "id": "-n4vrXWGPWNG"
      },
      "source": [
        "# Convesions for algorithm input"
      ]
    },
    {
      "cell_type": "code",
      "metadata": {
        "id": "sIyEc0fH-LUv"
      },
      "source": [
        "#Create node list \n",
        "node_list = []\n",
        "for node in G.nodes():\n",
        "    node_list.append(node)\n",
        "\n",
        "#Adjacence matrix\n",
        "adj_matrix = nx.adjacency_matrix(G,nodelist=node_list)\n",
        "\n",
        "# Feature matrix\n",
        "## Utility feature -> Prediabetes\n",
        "utility_feature = []\n",
        "utility_label = []\n",
        "for node in node_list:\n",
        "  if 'node_type' in G.nodes[node] and G.nodes[node]['node_type']=='patients':\n",
        "    for node2 in G.nodes():\n",
        "      if 'node_type' in G.nodes[node2] and G.nodes[node2]['node_type']=='conditions' and node2 == 'Prediabetes':\n",
        "            if node in G.neighbors(node2):\n",
        "              utility_feature.append([0,1,0]) # one-hot\n",
        "              utility_label.append([1])\n",
        "              break\n",
        "            else:\n",
        "              utility_feature.append([0,0,1]) # one-hot\n",
        "              utility_label.append([2])\n",
        "              break\n",
        "  else: # If the node type isn't patient\n",
        "    utility_feature.append([1,0,0]) # one-hot\n",
        "    utility_label.append([0])\n",
        "\n",
        "\n",
        "## Utility feature -> Otitis media\n",
        "# utility_feature = []\n",
        "# utility_label = []\n",
        "# for node in node_list:\n",
        "#   if 'node_type' in G.nodes[node] and G.nodes[node]['node_type']=='patients':\n",
        "#     for node2 in G.nodes():\n",
        "#       if 'node_type' in G.nodes[node2] and G.nodes[node2]['node_type']=='conditions' and node2 == 'Otitis media':\n",
        "#             if node in G.neighbors(node2):\n",
        "#               utility_feature.append([0,1,0]) # one-hot\n",
        "#               utility_label.append([1])\n",
        "#               break\n",
        "#             else:\n",
        "#               utility_feature.append([0,0,1]) # one-hot\n",
        "#               utility_label.append([2])\n",
        "#               break\n",
        "#   else: # If the node type isn't patient\n",
        "#     utility_feature.append([1,0,0]) # one-hot\n",
        "#     utility_label.append([0])\n",
        "    "
      ],
      "execution_count": null,
      "outputs": []
    },
    {
      "cell_type": "code",
      "metadata": {
        "id": "EOeJ9NG0BtNm"
      },
      "source": [
        "## Privacy feature -> Gender\n",
        "privacy_feature = []\n",
        "privacy_label = []\n",
        "t = set()\n",
        "for node in node_list:\n",
        "  if 'node_type' in G.nodes[node] and G.nodes[node]['node_type']=='patients':      \n",
        "    if G.nodes[node]['gender']=='F':\n",
        "      privacy_feature.append([0,1,0]) #one-hot\n",
        "      privacy_label.append([1])\n",
        "    if G.nodes[node]['gender']=='M':\n",
        "      privacy_feature.append([0,0,1]) #one-hot\n",
        "      privacy_label.append([2])\n",
        "  else: # If the node type isn't patient\n",
        "    privacy_feature.append([1,0,0]) #one-hot\n",
        "    privacy_label.append([0])\n",
        "\n",
        "\n",
        "## Privacy feature -> Marital (status)\n",
        "# privacy_feature = []\n",
        "# privacy_label = []\n",
        "# t = set()\n",
        "# for node in node_list:\n",
        "#   if 'node_type' in G.nodes[node] and G.nodes[node]['node_type']=='patients':\n",
        "#     if G.nodes[node]['marital']=='S':\n",
        "#       privacy_feature.append([0,1,0,0]) #one-hot\n",
        "#       privacy_label.append([1])\n",
        "#     else:\n",
        "#       if G.nodes[node]['marital']=='M':\n",
        "#         privacy_feature.append([0,0,1,0]) #one-hot\n",
        "#         privacy_label.append([2])\n",
        "#       else:\n",
        "#         privacy_feature.append([0,0,0,1]) #one-hot\n",
        "#         privacy_label.append([3])\n",
        "#   else: # If the node type isn't patient\n",
        "#     privacy_feature.append([1,0,0,0]) #one-hot\n",
        "#     privacy_label.append([0])"
      ],
      "execution_count": null,
      "outputs": []
    },
    {
      "cell_type": "markdown",
      "metadata": {
        "id": "H80e2PWer-C9"
      },
      "source": [
        "# Evaluate textual representation capacity to utility feature forecast"
      ]
    },
    {
      "cell_type": "code",
      "metadata": {
        "id": "567YRQgSs8rq",
        "colab": {
          "base_uri": "https://localhost:8080/"
        },
        "outputId": "dcd4194e-9aeb-4b01-dcdf-f10c177a4064"
      },
      "source": [
        "import numpy as np\n",
        "from sklearn.pipeline import make_pipeline\n",
        "from sklearn.preprocessing import StandardScaler\n",
        "from sklearn.svm import SVC\n",
        "from sklearn.model_selection import train_test_split\n",
        "from sklearn.dummy import DummyClassifier\n",
        "\n",
        "\n",
        "\n",
        "emb_labels = []\n",
        "emb_patients = []\n",
        "counter = 0\n",
        "for node in node_list:\n",
        "  if 'node_type' in G.nodes[node] and G.nodes[node]['node_type']=='patients': \n",
        "    emb_labels.append(np.argmax(utility_feature[counter]))\n",
        "    emb_patients.append(G.nodes[node]['f'])\n",
        "  counter += 1\n",
        "\n",
        "\n",
        "from sklearn.model_selection import cross_val_score\n",
        "#clf = SVC(random_state=42)\n",
        "\n",
        "# KNN Classifier\n",
        "clf = KNeighborsClassifier(n_neighbors=3)\n",
        "scores = cross_val_score(clf, np.array(emb_patients), np.array(emb_labels), cv=5,scoring='f1_macro')\n",
        "scores\n",
        "print(\"%0.2f f-1 macro with a standard deviation of %0.2f\" % (scores.mean(), scores.std()))\n",
        "\n",
        "clf = KNeighborsClassifier(n_neighbors=3)\n",
        "scores = cross_val_score(clf, np.array(emb_patients), np.array(emb_labels), cv=5,scoring='accuracy')\n",
        "scores\n",
        "print(\"%0.2f accuracy with a standard deviation of %0.2f\" % (scores.mean(), scores.std()))\n",
        "\n",
        "# Dummy Classifier\n",
        "dummy_clf = DummyClassifier(strategy=\"stratified\")\n",
        "scores = cross_val_score(dummy_clf, np.array(emb_patients), np.array(emb_labels), cv=5,scoring='f1_macro')\n",
        "scores\n",
        "print(\"[dummy] %0.2f f-1 macro with a standard deviation of %0.2f\" % (scores.mean(), scores.std()))\n",
        "\n",
        "scores = cross_val_score(dummy_clf, np.array(emb_patients), np.array(emb_labels), cv=5,scoring='accuracy')\n",
        "scores\n",
        "print(\"[dummy] %0.2f accuracy with a standard deviation of %0.2f\" % (scores.mean(), scores.std()))"
      ],
      "execution_count": null,
      "outputs": [
        {
          "output_type": "stream",
          "text": [
            "(1171, 512)\n",
            "(1171,) 1 2\n",
            "0.83 f-1 macro with a standard deviation of 0.03\n",
            "0.87 accuracy with a standard deviation of 0.02\n",
            "[dummy] 0.52 f-1 macro with a standard deviation of 0.02\n",
            "[dummy] 0.60 accuracy with a standard deviation of 0.02\n"
          ],
          "name": "stdout"
        }
      ]
    },
    {
      "cell_type": "code",
      "metadata": {
        "colab": {
          "base_uri": "https://localhost:8080/",
          "height": 285
        },
        "id": "gbPiOuRd5_Mi",
        "outputId": "34fa5a3f-e12d-4f54-c8c6-b94cec92a1a4"
      },
      "source": [
        "import pandas as pd\n",
        "\n",
        "\n",
        "import numpy as np\n",
        "from sklearn.manifold import TSNE\n",
        "X_embedded = TSNE(n_components=2).fit_transform(emb_patients)\n",
        "X_embedded.shape\n",
        "\n",
        "df = pd.DataFrame(X_embedded)\n",
        "df['label'] = emb_labels\n",
        "df = df.dropna()\n",
        "import pandas as pd\n",
        "import seaborn as sns\n",
        "import numpy as np\n",
        "import matplotlib.pyplot as plt\n",
        "\n",
        "g = sns.scatterplot(x=0, y=1, data=df, hue=\"label\", legend=False)\n",
        "g.set(xlabel=None)\n",
        "g.set(ylabel=None)\n",
        "\n",
        "plt.savefig('node2vec.pdf')"
      ],
      "execution_count": null,
      "outputs": [
        {
          "output_type": "stream",
          "text": [
            "2021-03-03 16:25:50 - NumExpr defaulting to 2 threads.\n"
          ],
          "name": "stdout"
        },
        {
          "output_type": "display_data",
          "data": {
            "image/png": "[encoded data removed]",
            "text/plain": [
              "<Figure size 432x288 with 1 Axes>"
            ]
          },
          "metadata": {
            "tags": [],
            "needs_background": "light"
          }
        }
      ]
    },
    {
      "cell_type": "markdown",
      "metadata": {
        "id": "ZCbBi96Wt9n7"
      },
      "source": [
        "# Evaluate textual representation capacity to privacy feature forecast\n",
        "\n"
      ]
    },
    {
      "cell_type": "code",
      "metadata": {
        "id": "L3ZFpYAruHLJ",
        "colab": {
          "base_uri": "https://localhost:8080/"
        },
        "outputId": "c26c68d7-f818-475b-e014-38591ca1a31c"
      },
      "source": [
        "import numpy as np\n",
        "from sklearn.pipeline import make_pipeline\n",
        "from sklearn.preprocessing import StandardScaler\n",
        "from sklearn.svm import SVC\n",
        "from sklearn.model_selection import train_test_split\n",
        "from sklearn.dummy import DummyClassifier\n",
        "\n",
        "emb_labels = []\n",
        "emb_patients = []\n",
        "counter = 0\n",
        "for node in node_list:\n",
        "  if 'node_type' in G.nodes[node] and G.nodes[node]['node_type']=='patients': \n",
        "    emb_labels.append(np.argmax(privacy_feature[counter]))\n",
        "    emb_patients.append(G.nodes[node]['f'])\n",
        "  counter += 1\n",
        "\n",
        "print(np.array(emb_patients).shape)\n",
        "print(np.array(emb_labels).shape,np.min(np.array(emb_labels)),np.max(np.array(emb_labels)))\n",
        "\n",
        "from sklearn.model_selection import cross_val_score\n",
        "#clf = SVC(random_state=42)\n",
        "clf = KNeighborsClassifier(n_neighbors=3)\n",
        "scores = cross_val_score(clf, np.array(emb_patients), np.array(emb_labels), cv=5,scoring='f1_macro')\n",
        "scores\n",
        "print(\"%0.2f f-1 macro with a standard deviation of %0.2f\" % (scores.mean(), scores.std()))\n",
        "\n",
        "#clf = SVC(random_state=42)\n",
        "clf = KNeighborsClassifier(n_neighbors=3)\n",
        "scores = cross_val_score(clf, np.array(emb_patients), np.array(emb_labels), cv=5,scoring='accuracy')\n",
        "scores\n",
        "print(\"%0.2f accuracy with a standard deviation of %0.2f\" % (scores.mean(), scores.std()))\n",
        "\n",
        "\n",
        "\n",
        "dummy_clf = DummyClassifier(strategy=\"stratified\")\n",
        "scores = cross_val_score(dummy_clf, np.array(emb_patients), np.array(emb_labels), cv=5,scoring='f1_macro')\n",
        "scores\n",
        "print(\"[dummy] %0.2f f-1 macro with a standard deviation of %0.2f\" % (scores.mean(), scores.std()))\n",
        "\n",
        "scores = cross_val_score(dummy_clf, np.array(emb_patients), np.array(emb_labels), cv=5,scoring='accuracy')\n",
        "scores\n",
        "print(\"[dummy] %0.2f accuracy with a standard deviation of %0.2f\" % (scores.mean(), scores.std()))"
      ],
      "execution_count": null,
      "outputs": [
        {
          "output_type": "stream",
          "text": [
            "(1171, 512)\n",
            "(1171,) 1 2\n",
            "0.70 f-1 macro with a standard deviation of 0.02\n",
            "0.70 accuracy with a standard deviation of 0.02\n",
            "[dummy] 0.53 f-1 macro with a standard deviation of 0.05\n",
            "[dummy] 0.51 accuracy with a standard deviation of 0.03\n"
          ],
          "name": "stdout"
        }
      ]
    },
    {
      "cell_type": "code",
      "metadata": {
        "colab": {
          "base_uri": "https://localhost:8080/",
          "height": 265
        },
        "id": "umcKFaAr6syl",
        "outputId": "54f1c069-bfc6-49a9-dd9e-006c1e559a7c"
      },
      "source": [
        "import pandas as pd\n",
        "\n",
        "\n",
        "import numpy as np\n",
        "from sklearn.manifold import TSNE\n",
        "X_embedded = TSNE(n_components=2,perplexity=5).fit_transform(emb_patients)\n",
        "X_embedded.shape\n",
        "\n",
        "df = pd.DataFrame(X_embedded)\n",
        "df['label'] = emb_labels\n",
        "df = df.dropna()\n",
        "import pandas as pd\n",
        "import seaborn as sns\n",
        "import numpy as np\n",
        "import matplotlib.pyplot as plt\n",
        "\n",
        "g = sns.scatterplot(x=0, y=1, data=df, hue=\"label\", legend=False)\n",
        "g.set(xlabel=None)\n",
        "g.set(ylabel=None)\n",
        "\n",
        "plt.savefig('knn_hm_private.pdf')"
      ],
      "execution_count": null,
      "outputs": [
        {
          "output_type": "display_data",
          "data": {
            "image/png": "[encoded data removed]",
            "text/plain": [
              "<Figure size 432x288 with 1 Axes>"
            ]
          },
          "metadata": {
            "tags": [],
            "needs_background": "light"
          }
        }
      ]
    },
    {
      "cell_type": "markdown",
      "metadata": {
        "id": "T7DxbiPvYues"
      },
      "source": [
        "# Generate Feature Matrix"
      ]
    },
    {
      "cell_type": "code",
      "metadata": {
        "id": "CV_iCU8fC6Xc"
      },
      "source": [
        "### Generating feature matrix\n",
        "feature_matrix = []\n",
        "for patient in node_list:\n",
        "  feature_matrix.append(G.nodes[patient]['f'])\n",
        "\n",
        "feature_matrix = np.array(feature_matrix)\n",
        "\n",
        "## Concatenating privacy features\n",
        "feature_matrix = np.concatenate((feature_matrix,np.array(privacy_feature)), axis=1)\n",
        "\n",
        "## Generate label matrix\n",
        "label_matrix = np.concatenate((np.array(utility_label),np.array(privacy_label)),axis=1)"
      ],
      "execution_count": null,
      "outputs": []
    },
    {
      "cell_type": "markdown",
      "metadata": {
        "id": "Ri9VM0AoG9lZ"
      },
      "source": [
        "# Privacy Network Embedding Instantiating"
      ]
    },
    {
      "cell_type": "code",
      "metadata": {
        "id": "Iv81HKIFHCad"
      },
      "source": [
        "!git clone https://github.com/KaiyangLi1992/Privacy-Preserving-Social-Network-Embedding/"
      ],
      "execution_count": null,
      "outputs": []
    },
    {
      "cell_type": "code",
      "metadata": {
        "id": "yUVWfep7HGri"
      },
      "source": [
        "!mv Privacy-Preserving-Social-Network-Embedding/* ."
      ],
      "execution_count": null,
      "outputs": []
    },
    {
      "cell_type": "code",
      "metadata": {
        "id": "Uei1kO_4NeGQ"
      },
      "source": [
        "### Training\n",
        "\n",
        "from __future__ import division\n",
        "from __future__ import print_function\n",
        "\n",
        "import sys\n",
        "import pickle as pkl\n",
        "import tensorflow.compat.v1 as tf\n",
        "import numpy as np\n",
        "import scipy.sparse as sp\n",
        "from input_data import load_data\n",
        "from meansuring import get_score\n",
        "from preprocessing import preprocess_graph,sparse_to_tuple,construct_feed_dict\n",
        "from constructor import get_placeholder, get_model, get_optimizer, update\n",
        "from process_attr import get_attr_list\n",
        "# Train on CPU (hide GPU) due to memory constraints\n",
        "import os\n",
        "os.environ['CUDA_VISIBLE_DEVICES'] = \"0\"\n",
        "\n",
        "\n",
        "tf.reset_default_graph()\n",
        "\n",
        "def del_all_flags(FLAGS):\n",
        "    flags_dict = FLAGS._flags()    \n",
        "    keys_list = [keys for keys in flags_dict]    \n",
        "    for keys in keys_list:\n",
        "        FLAGS.__delattr__(keys)\n",
        "\n",
        "del_all_flags(tf.flags.FLAGS)\n",
        "# Settings\n",
        "flags = tf.app.flags\n",
        "FLAGS = flags.FLAGS\n",
        "# Settings\n",
        "flags.DEFINE_string('f', '', 'Kernel')\n",
        "flags.DEFINE_string('dataset', 'yale', 'Name of dateset')\n",
        "flags.DEFINE_float('learning_rate', 0.01, 'Initial learning rate.')\n",
        "flags.DEFINE_float('discriminator_learning_rate', 0.001, 'Initial learning rate.')\n",
        "flags.DEFINE_integer('hidden1', 128, 'Number of units in GCN layer 1.')\n",
        "flags.DEFINE_integer('hidden3', 32, 'Number of units in discriminator layer 1.')\n",
        "flags.DEFINE_integer('hidden4', 16, 'Number of units in discriminator layer 2.')\n",
        "flags.DEFINE_float('dropout', 0.2, 'Dropout rate (1 - keep probability).')\n",
        "flags.DEFINE_integer('epochs', 100, 'Number of iterations.')\n",
        "flags.DEFINE_integer('pri_weight', 1,'weight of privacy')\n",
        "flags.DEFINE_integer('uti_attr_weight', 1,'weight of utility_attr')\n",
        "flags.DEFINE_integer('hidden2', 8, 'Number of units in GCN layer 2.')\n",
        "flags.DEFINE_float('link_weight', 1,'weight of privacy')\n",
        "\n",
        "# Load variables\n",
        "adj = adj_matrix\n",
        "adj_train = adj_matrix\n",
        "features = feature_matrix\n",
        "labels = label_matrix\n",
        "\n",
        "# Store original adjacency matrix (without diagonal entries) for later\n",
        "adj_orig = adj\n",
        "adj_orig = adj_orig - sp.dia_matrix((adj_orig.diagonal()[np.newaxis, :], [0]), shape=adj_orig.shape)\n",
        "adj_orig.eliminate_zeros()\n",
        "\n",
        "adj = adj_train\n",
        "\n",
        "# Some preprocessing\n",
        "adj_norm = preprocess_graph(adj)\n",
        "features_mat = features\n",
        "\n",
        "y=labels[:,0]\n",
        "labels\n",
        "\n",
        "attr_labels = np.array(utility_feature)\n",
        "privacy_labels = np.array(privacy_feature)\n",
        "\n",
        "attr_labels_list = [attr_labels,privacy_labels]\n",
        "dim_attr = [attr_labels.shape[1], privacy_labels.shape[1]]\n",
        "features_rm_privacy = features_mat[:,:-np.array(privacy_feature).shape[1]] \n",
        "\n",
        "features_lil = sp.lil_matrix(features_rm_privacy)\n",
        "features_tuple = sparse_to_tuple(features_lil .tocoo())\n",
        "\n",
        "num_nodes = adj.shape[0]\n",
        "features_sp = sparse_to_tuple(features_lil.tocoo())\n",
        "\n",
        "num_features = features_sp[2][1]\n",
        "features_nonzero = features_sp[1].shape[0]\n",
        "\n",
        "pos_weight = float(adj.shape[0] * adj.shape[0] - adj.sum()) / adj.sum()\n",
        "norm = 1\n",
        "\n",
        "adj_label = adj_train + sp.eye(adj_train.shape[0])\n",
        "adj_label = sparse_to_tuple(adj_label)\n",
        "\n",
        "\n",
        "#Define placeholders\n",
        "placeholders = get_placeholder(adj)\n",
        "d_real, discriminator, ae_model = get_model(placeholders, num_features, \n",
        "                                            num_nodes, features_nonzero,attr_labels_list[-1],dim_attr)\n",
        "opt = get_optimizer(ae_model, discriminator, placeholders, pos_weight, norm, d_real, \n",
        "                            num_nodes,attr_labels_list)\n",
        "\n",
        "#Train Model\n",
        "preds_all = None\n",
        "labels_all = None\n",
        "epochs = 10\n",
        "sess = tf.Session()\n",
        "sess.run(tf.global_variables_initializer())\n",
        "for epoch in range(epochs):    \n",
        "    emb,emb_long,avg_cost,attr_loss,pri_loss,link_loss = update(ae_model, opt, sess,adj_norm,adj_label,features_tuple, placeholders, adj)\n",
        "\n",
        "print(\"Optimization Finished!\")"
      ],
      "execution_count": null,
      "outputs": []
    },
    {
      "cell_type": "markdown",
      "metadata": {
        "id": "TcCIiY12vFih"
      },
      "source": [
        "# Evaluate Generated Embedding capacity to utility feature forecast"
      ]
    },
    {
      "cell_type": "code",
      "metadata": {
        "id": "BVK4V6x1vIyD",
        "colab": {
          "base_uri": "https://localhost:8080/"
        },
        "outputId": "767e7a2f-cd8a-4ce3-f2c5-9156b75d6826"
      },
      "source": [
        "import numpy as np\n",
        "from sklearn.pipeline import make_pipeline\n",
        "from sklearn.preprocessing import StandardScaler\n",
        "from sklearn.svm import SVC\n",
        "from sklearn.model_selection import train_test_split\n",
        "from sklearn.dummy import DummyClassifier\n",
        "from sklearn.neighbors import KNeighborsClassifier\n",
        "\n",
        "\n",
        "emb_labels = []\n",
        "emb_patients = []\n",
        "counter = 0\n",
        "for node in node_list:\n",
        "  if 'node_type' in G.nodes[node] and G.nodes[node]['node_type']=='patients': \n",
        "    emb_labels.append(np.argmax(utility_feature[counter]))\n",
        "    emb_patients.append(emb[counter])\n",
        "  counter += 1\n",
        "\n",
        "# KNN Classifier\n",
        "from sklearn.model_selection import cross_val_score\n",
        "#clf = SVC(random_state=42,class_weight={1: 4})\n",
        "clf = KNeighborsClassifier(n_neighbors=3)\n",
        "scores = cross_val_score(clf, np.array(emb_patients), np.array(emb_labels), cv=5,scoring='f1_macro')\n",
        "scores\n",
        "print(\"%0.2f f-1 macro with a standard deviation of %0.2f\" % (scores.mean(), scores.std()))\n",
        "\n",
        "scores = cross_val_score(clf, np.array(emb_patients), np.array(emb_labels), cv=5,scoring='accuracy')\n",
        "scores\n",
        "print(\"%0.2f accuracy with a standard deviation of %0.2f\" % (scores.mean(), scores.std()))\n",
        "\n",
        "# Dummy Classifier\n",
        "dummy_clf = DummyClassifier(strategy=\"stratified\")\n",
        "scores = cross_val_score(dummy_clf, np.array(emb_patients), np.array(emb_labels), cv=5,scoring='f1_macro')\n",
        "scores\n",
        "print(\"[dummy] %0.2f f-1 macro with a standard deviation of %0.2f\" % (scores.mean(), scores.std()))\n",
        "\n",
        "scores = cross_val_score(dummy_clf, np.array(emb_patients), np.array(emb_labels), cv=5,scoring='accuracy')\n",
        "scores\n",
        "print(\"[dummy] %0.2f accuracy with a standard deviation of %0.2f\" % (scores.mean(), scores.std()))\n",
        "\n"
      ],
      "execution_count": null,
      "outputs": [
        {
          "output_type": "stream",
          "text": [
            "0.72 f-1 macro with a standard deviation of 0.02\n",
            "0.77 accuracy with a standard deviation of 0.02\n",
            "[dummy] 0.52 f-1 macro with a standard deviation of 0.03\n",
            "[dummy] 0.63 accuracy with a standard deviation of 0.03\n"
          ],
          "name": "stdout"
        }
      ]
    },
    {
      "cell_type": "code",
      "metadata": {
        "colab": {
          "base_uri": "https://localhost:8080/",
          "height": 285
        },
        "id": "qHJdWrrbqNSI",
        "outputId": "135127d2-4ec3-4b7a-b906-fadd8182377f"
      },
      "source": [
        "pd.DataFrame(y_train)[0].hist()"
      ],
      "execution_count": null,
      "outputs": [
        {
          "output_type": "execute_result",
          "data": {
            "text/plain": [
              "<matplotlib.axes._subplots.AxesSubplot at 0x7f2b4e49f650>"
            ]
          },
          "metadata": {
            "tags": []
          },
          "execution_count": 120
        },
        {
          "output_type": "display_data",
          "data": {
            "image/png": "[encoded data removed]",
            "text/plain": [
              "<Figure size 432x288 with 1 Axes>"
            ]
          },
          "metadata": {
            "tags": [],
            "needs_background": "light"
          }
        }
      ]
    },
    {
      "cell_type": "markdown",
      "metadata": {
        "id": "gRhm7U33vYhc"
      },
      "source": [
        "# Evaluate Generated Embedding capacity to utility feature forecast"
      ]
    },
    {
      "cell_type": "code",
      "metadata": {
        "id": "Lvk48ZxNTkNc",
        "colab": {
          "base_uri": "https://localhost:8080/"
        },
        "outputId": "5c6bf3ee-6c2c-495e-a791-3044fbea31b2"
      },
      "source": [
        "import numpy as np\n",
        "from sklearn.pipeline import make_pipeline\n",
        "from sklearn.preprocessing import StandardScaler\n",
        "from sklearn.svm import SVC\n",
        "from sklearn.model_selection import train_test_split\n",
        "from sklearn.dummy import DummyClassifier\n",
        "from sklearn.neighbors import KNeighborsClassifier\n",
        "\n",
        "emb_labels = []\n",
        "emb_patients = []\n",
        "counter = 0\n",
        "for node in node_list:\n",
        "  if 'node_type' in G.nodes[node] and G.nodes[node]['node_type']=='patients': \n",
        "    emb_labels.append(np.argmax(privacy_feature[counter]))\n",
        "    emb_patients.append(emb[counter])\n",
        "  counter += 1\n",
        "\n",
        "\n",
        "from sklearn.model_selection import cross_val_score\n",
        "\n",
        "# KNN Classifier\n",
        "#clf = SVC(random_state=42)\n",
        "clf = KNeighborsClassifier(n_neighbors=3)\n",
        "scores = cross_val_score(clf, np.array(emb_patients), np.array(emb_labels), cv=5,scoring='f1_macro')\n",
        "scores\n",
        "print(\"%0.2f f-1 macro with a standard deviation of %0.2f\" % (scores.mean(), scores.std()))\n",
        "\n",
        "#clf = SVC(random_state=42)\n",
        "clf = KNeighborsClassifier(n_neighbors=3)\n",
        "scores = cross_val_score(clf, np.array(emb_patients), np.array(emb_labels), cv=5,scoring='accuracy')\n",
        "scores\n",
        "print(\"%0.2f accuracy with a standard deviation of %0.2f\" % (scores.mean(), scores.std()))\n",
        "\n",
        "# Dummy Classifier\n",
        "dummy_clf = DummyClassifier(strategy=\"stratified\")\n",
        "scores = cross_val_score(dummy_clf, np.array(emb_patients), np.array(emb_labels), cv=5,scoring='f1_macro')\n",
        "scores\n",
        "print(\"[dummy] %0.2f f-1 macro with a standard deviation of %0.2f\" % (scores.mean(), scores.std()))\n",
        "\n",
        "scores = cross_val_score(dummy_clf, np.array(emb_patients), np.array(emb_labels), cv=5,scoring='accuracy')\n",
        "scores\n",
        "print(\"[dummy] %0.2f accuracy with a standard deviation of %0.2f\" % (scores.mean(), scores.std()))\n"
      ],
      "execution_count": null,
      "outputs": [
        {
          "output_type": "stream",
          "text": [
            "0.66 f-1 macro with a standard deviation of 0.02\n",
            "0.66 accuracy with a standard deviation of 0.02\n",
            "[dummy] 0.49 f-1 macro with a standard deviation of 0.02\n",
            "[dummy] 0.49 accuracy with a standard deviation of 0.03\n"
          ],
          "name": "stdout"
        }
      ]
    },
    {
      "cell_type": "code",
      "metadata": {
        "colab": {
          "base_uri": "https://localhost:8080/",
          "height": 265
        },
        "id": "1Tv4j4QH6-v1",
        "outputId": "a2a1a43c-6109-4511-b10e-50e9fdf553c2"
      },
      "source": [
        "#Plot results\n",
        "import pandas as pd\n",
        "\n",
        "import numpy as np\n",
        "from sklearn.manifold import TSNE\n",
        "X_embedded = TSNE(n_components=2,perplexity=3).fit_transform(emb_patients)\n",
        "X_embedded.shape\n",
        "\n",
        "df = pd.DataFrame(X_embedded)\n",
        "df['label'] = emb_labels\n",
        "df = df.dropna()\n",
        "import pandas as pd\n",
        "import seaborn as sns\n",
        "import numpy as np\n",
        "import matplotlib.pyplot as plt\n",
        "\n",
        "g = sns.scatterplot(x=0, y=1, data=df, hue=\"label\", legend=False)\n",
        "g.set(xlabel=None)\n",
        "g.set(ylabel=None)\n",
        "\n",
        "plt.savefig('approach_private.pdf')"
      ],
      "execution_count": null,
      "outputs": [
        {
          "output_type": "display_data",
          "data": {
            "image/png": "[encoded data removed]",
            "text/plain": [
              "<Figure size 432x288 with 1 Axes>"
            ]
          },
          "metadata": {
            "tags": [],
            "needs_background": "light"
          }
        }
      ]
    }
  ]
}